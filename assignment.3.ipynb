{
 "cells": [
  {
   "cell_type": "markdown",
   "metadata": {},
   "source": [
    "Martina Barone"
   ]
  },
  {
   "cell_type": "markdown",
   "metadata": {},
   "source": [
    "ROSALIND"
   ]
  },
  {
   "cell_type": "markdown",
   "metadata": {},
   "source": [
    "-DNA:"
   ]
  },
  {
   "cell_type": "code",
   "execution_count": null,
   "metadata": {},
   "outputs": [],
   "source": [
    "from collections import Counter\n",
    "s='CTATCCAAACGTACAGTCGCAAGCCACGCCGTACCCCCCTATGGAGGTCAAATAGGGTAACGGTGGAGCCGTGGGTGCGGAGTCTATGTTGCTGTCGAATTATTATCTTCCAATTTAATCGACCTAATTCTCCAACTGACTGTATAACGGAAAAGCTCCTCGGAGCCAGGATAGCATATACGCGAGGTCTCGTTACACGTGTCTCTGAATCCCTCTCTGGTCCTCGCTTCCGAGTCCGTACGTTAGGATGACGGAGGAACCACCCTACTCCTCCCAGTGACGCGCACCCTTCCATAATCCTTGCCTCGTAACTTTGCGCCGGGCAGCGGCCCAATCACGAGAGTCTCAGGCTTGGTGCTCGTGTTAGCACCTTCACAACTACAAAATCCGCAATCGCGTGTTGGGGTGGGGTGGGTGTAACTCCCCACCTCCCGTGGGCGTTCCGTCACAATAACTAAGGTGTTTGCGCAGTGATGGATCTGAAATACAATTCCTACTTACAAAGGCGACGGGTCTTGATGCATGATGCACAAGATTCCCCGGATCTAGCGATTACCAGCTAAGTTAGCGCGCGAAGGAAGCGCCGAAACGTTTGTTTCGTGCGCACCTTCAGCTATGTCCTGCACGCACCGCGCTTCCACTTTGCGCATTCATTGCCTTTATTGTTCCATACTTTGAGGACTACGGCCTTCGGAAAGGAGCCCCGAACTACACACCATAAAGCGCTGAACCCTGAAGCCGGCAAGTAGGAGAGGGCTCAACATTACCACGCCAAGTAGCTCAGGCTTACAGCGAGACTGTATCAAATCAAT'\n",
    "occurences=Counter(s)\n",
    "print(occurences['A'],occurences['C'],occurences['G'],occurences['T'])\n",
    "\n",
    "\n"
   ]
  },
  {
   "cell_type": "markdown",
   "metadata": {},
   "source": [
    "-RNA:"
   ]
  },
  {
   "cell_type": "code",
   "execution_count": null,
   "metadata": {},
   "outputs": [],
   "source": [
    "t='TGACTTGTCAGGTTCTCAGACAAAAGGCATCAATATGTACAATGACTGGCGCTACTTTCCTAGGCACATGTTGTCGACCTAGCCGGCGTAAGCAAAACATTCGATGATAATCAGATCGCATTTACTCGTGTGATAGTGACCTTTCACTCGAGCGAATGGAGTTCCGTTGAGGTCAGTCTATCGAGTTGCTGCACTTAAGAGGGAGACTCAGTATCGGCTGACGTGCGATTTAGGGCAACCTCTAGGACGCGCGGCTCGCTGTATGCTATAACCCCTCACACACGAACCCGCTGTGCGTTGTGATGTAATAGCTCTGACTGTGTATCCATCAATTCGGCGCTAAGCTGTACTTTTGCGGTTACAAGACTGCGGACGCACGCTCAGCTATCGGGCGCAAATCGCTGTACCCTTGAACCACTATTCTTGTAGTGCGCTTCGCTATCCCCTACGTCTGCGCTCCCGATATTCATACTTGGGTGAGCGATCATTCGCCTGGATAACCTGAGGTCCGTTATTCCGCTGGGTTATCGGTAGGACGGCTGTCATCTCGTATCTCAAATATATCAGATAGATGTGGGCATAGTCTACTGCGGATCGGTTTTTTGCCAAATAGTTCGCGACCTCCTCTGAATCTTGGTTGGCCCCTGTGTCGTTTAATGAACCGCTTGGGTAGATAGGAACGGCTACGACATATGTTGGTTTCTTAGGCTGCCGAGTGTATAAAAAGCCTGTGGAGAGCATGAGCATCAAGGTACGTCTTATCCTCTACCTGGCTCGTGGCCCCACTCGGAACACAATGGGGTGTTAACTTAGAGAACTGCGAAGTCATCGGTCCGGCCGAGCTTAGAACGTATAAATCCAAGACTGAAATATCCACTAGCTACGTTTTTATAGCGGAAATC'\n",
    "u=t.replace('T','U')\n",
    "print(u)\n"
   ]
  },
  {
   "cell_type": "markdown",
   "metadata": {},
   "source": [
    "-REVC:"
   ]
  },
  {
   "cell_type": "code",
   "execution_count": null,
   "metadata": {},
   "outputs": [],
   "source": [
    "s='TCGATACCTCGGAAAAAGAAGACTATCATAGGCCTGGCTTTAACGAGTGTCGGCATAATGGTCTAGGGACGTGCTTTTGCTCTTGGCCGCAAAAACTTGAGTAGTGGTGCGACCGCGGGCTTGACGAAGCGCGACAGCTACGTATAGTGCCGTACGACCACGATCACTGGGTGAGCCCGCCAGGTAACTTCGCGCTGCCTAAACACATATCAAGTCTTCTCCCGTAGATCATCAAACCCTAAAAGTATTTTGTTATCTACTATTGATTGAAAGAAACAATGTGCAAGACGGGTTGGACTTTTTCTTGTTTCGGTTAAACGGCTCCAGCAAAGTGCTGAATGATTCTTTGTCGTGAGCAAGACAGTACCTCACACAAAGGTCTCGCAAAGATCTCTACCTTGGGTATTCTCTTCTAGCAAGCGGAAACCTGTCAAGGTAGCATTTTGCAGTGGTTTGAGTCAAAATCTGTAGGAGACTCATGCTACTTTAGTGTACCCTGAATACTCGAGAGATCCGGCTATCTTAACAGTCTCCTAGGGTGCTGATCTTCCACCAGTGTTCACCCCCGGTGAGCGGGCCTTGACCGTCGGTGCCCACTCTCGCCCTAAGCCTGATAGTGAATTGCTCTCTTACGAGTGCAGGTGTGGTAATTCGTAGCCCACGTAGATATGGAGGGCGGTATCGGATTCGTCTGCACATTTAGGGCATTAGGCTCTAAAAGGACGGGATGGGTATTAAAACCAGAACAATGTCTCCGTGACCTCCAGCCGTGCTAGCCCAAATGTGACCCAGCGTGTCGAAGACCACAGAGTTGCGGGCTTTTCAAGTCTTTATCCCACAGCAGATGGTATCTTGTACTCGTGCATTCAGATCCATTTGTCGACCGTTGAAGATACCATCAGGAGACCTGTGTGGTGCATTCCGCTGCTGTTCGCAGCCAGAGGCGTATCTAACGCCGCTGACGCGAAGCACCCCC'\n",
    "compl=[]\n",
    "for i in s:\n",
    "    if i=='A':\n",
    "        compl.append('T')\n",
    "    if i=='T':\n",
    "        compl.append('A')\n",
    "    if i=='C':\n",
    "        compl.append('G')\n",
    "    if i=='G':\n",
    "        compl.append('C')\n",
    "\n",
    "compl=compl[::-1]\n",
    "\n",
    "  \n",
    "\n",
    "reverse_compl=\"\".join(compl)\n",
    "print(reverse_compl)"
   ]
  },
  {
   "cell_type": "markdown",
   "metadata": {},
   "source": [
    "-SUBS:"
   ]
  },
  {
   "cell_type": "code",
   "execution_count": null,
   "metadata": {},
   "outputs": [],
   "source": [
    "seq='TGAGATAGGGAGATAGCGAGATAGATAGAGATAGAGAGAGATAGAGAGATAGGAGATAGGTGGAGATAGTTGCTTGAGATAGTGAGATAGTAAACGGTCATTGAGATAGTCCAGAGATAGGAGATAGGCGAGATAGGTTGAGATAGAGAGATAGGAGATAGAGGTGAGATAGACAAGTGAGATAGTCGAGATAGTGAGATAGATTGAGATAGGAGATAGCTTGGAGATAGGAGATAGTGCGAGATAGGAGATAGATGGGAGATAGCTCGAGATAGTTGAGATAGAGAGATAGCAGAGATAGGAGAGATAGAGAGATAGCCGAGATAGAGAGATAGTTCCGCGCAGAGATAGTTGTCATGAGATAGGAGATAGGTCTATAGAGATAGAAGTGATGAGATAGGAGATAGCCTTGAGATAGGAGATAGCGAGATAGGGGACGGAGATAGGAGATAGGGAGATAGTGAGATAGGCATAGAGATAGAAGAGATAGTAAGATCAGAGATAGGAGAGATAGAATACACCGAGATAGTTCCTACGAGATAGGGAGATAGGCCATAGAGATAGTTTAGAGATAGTGGAGAGATAGGGATGCGAGATAGATAGAGATAGCTAGAGATAGTAGAGATAGGAGATAGAGTACGGAGATAGTGAGATAGCTGGAGATAGGAGATAGCCGAGATAGTGAGATAGGAGATAGGAGATAGGAGATAGGCCGCTCACGAGAGATAGGAGATAGAGAGAGATAGACGAGAGATAGGGAGATAGGTTTGAGATAGCATCTGAGATAGATTTTTTGAGATAGCTGCTTTAGAGATAGTTGAGATAGATAGGTCGAGATAGGAGATAGAACTAAGAGATAGCAGTCGAGATAGGAGATAGTAGAGATAGGCGAGATAGGAGATAGGAGAGATAGATGAGATAGATCACCGAGATAGGAGATAGCGAGATAGGAGATAGGAGATAGGAGATAGGAGATAG'\n",
    "sub_s='GAGATAGGA'\n",
    "\n",
    "\n",
    "for i in range(len(seq)):\n",
    "        if seq[i]==sub_s[0]:\n",
    "            a=seq[i:i+len(sub_s)]\n",
    "            if sub_s==a:\n",
    "                print(i+1,end=' ')"
   ]
  },
  {
   "cell_type": "markdown",
   "metadata": {},
   "source": [
    "-GC"
   ]
  },
  {
   "cell_type": "code",
   "execution_count": null,
   "metadata": {},
   "outputs": [],
   "source": [
    "from Bio import SeqIO\n",
    "from collections import Counter\n",
    "path=r'C:\\Users\\marti\\OneDrive\\Desktop\\pcs2\\homework3'\n",
    "file=r'\\rosalind_gc (1).txt'\n",
    "with open(path+file, \"r\") as file:\n",
    "    max_id=''\n",
    "    maxgc_content=0\n",
    "    for seq in SeqIO.parse(file, \"fasta\"):\n",
    "        id=seq.id\n",
    "        \n",
    "        lst=[]\n",
    "        occurences=Counter(seq.seq)\n",
    "        g=occurences['G']\n",
    "        c=occurences['C']\n",
    "        gc=(g+c)/len((seq.seq))*100\n",
    "        lst.append(gc)\n",
    "        mx=max(lst)\n",
    "        if mx>maxgc_content:\n",
    "            max_id=id\n",
    "            maxgc_content=mx\n",
    "    print(max_id)\n",
    "    print(maxgc_content)"
   ]
  },
  {
   "cell_type": "markdown",
   "metadata": {},
   "source": [
    "-IPRB"
   ]
  },
  {
   "cell_type": "code",
   "execution_count": null,
   "metadata": {},
   "outputs": [],
   "source": [
    "k=19#homozdominant\n",
    "m=20#heteroz\n",
    "n=20#homozrecessive\n",
    "total=k+m+n\n",
    "heterozig_prob=(m/total)*((m-1)/(total-1))\n",
    "recessive_prob=(n/total)*((n-1)/(total-1))\n",
    "heteroreces_prob=(m/total)*(n/(total-1))+(n/total)*(m/(total-1))\n",
    "recess_tot=recessive_prob+heterozig_prob*.25+heteroreces_prob*.5\n",
    "domin_prob=1-recess_tot\n",
    "print(domin_prob)"
   ]
  },
  {
   "cell_type": "markdown",
   "metadata": {},
   "source": [
    "-IEV"
   ]
  },
  {
   "cell_type": "code",
   "execution_count": null,
   "metadata": {},
   "outputs": [],
   "source": [
    "genot1,genot2,genot3,genot4,genot5,genot6=19895,19695,17474,18908,19544,16435\n",
    "exp_AAAA=2\n",
    "exp_AAAa=2\n",
    "exp_AAaa=2\n",
    "exp_AaAa=2*0.75\n",
    "exp_Aaaa=2*0.5\n",
    "exp_aaaa=2*0\n",
    "expected_offspring=(genot1*exp_AAAA+genot2*exp_AAAa+genot3*exp_AAaa+genot4*exp_AaAa+genot5*exp_Aaaa)\n",
    "print(expected_offspring)"
   ]
  },
  {
   "cell_type": "markdown",
   "metadata": {},
   "source": [
    "-LIA"
   ]
  },
  {
   "cell_type": "code",
   "execution_count": null,
   "metadata": {},
   "outputs": [],
   "source": [
    "prob_AaBb = 0.25\n",
    "k=7\n",
    "N=36\n",
    "population = 2 ** k  \n",
    "probability = 0\n",
    "def fact(n):\n",
    "    if n == 1:\n",
    "        return 1\n",
    "    else:\n",
    "        return n * fact(n-1)\n",
    "\n",
    "for i in range(N, population):\n",
    "        prob = (fact(population))/ (fact(i) * fact(population-i)) * (0.25**i) * (0.75**(population-i))\n",
    "        probability += prob\n",
    "print(probability)"
   ]
  },
  {
   "cell_type": "markdown",
   "metadata": {},
   "source": [
    "-CONS"
   ]
  },
  {
   "cell_type": "code",
   "execution_count": null,
   "metadata": {},
   "outputs": [],
   "source": [
    "from Bio import SeqIO\n",
    "from collections import Counter\n",
    "import pandas as pd\n",
    " \n",
    "sequences = []\n",
    "for seq in SeqIO.parse('rosalind_cons (5).txt', 'fasta'):\n",
    "     sequences.append(seq.seq)\n",
    " \n",
    "count = []\n",
    "for index in range(len(sequences[0])):\n",
    "    nuc = []\n",
    "    for i in sequences:\n",
    "        nuc.append(i[index])\n",
    "         \n",
    "    count.append(Counter(nuc))\n",
    " \n",
    "for index in range(len(count)):\n",
    "    print(count[index].most_common()[0][0], end='')\n",
    " \n",
    "print()\n",
    " \n",
    "matrix = pd.DataFrame(count, columns=['A', 'C', 'G', 'T']).fillna(0).T\n",
    "for each in ['A', 'C', 'G', 'T']:\n",
    "     print(each, end=': ')\n",
    "     matrix.loc[each].apply(lambda row: print(int(row), end=' '))\n",
    "     print()\n",
    "    "
   ]
  },
  {
   "cell_type": "markdown",
   "metadata": {},
   "source": [
    "-PROB"
   ]
  },
  {
   "cell_type": "code",
   "execution_count": null,
   "metadata": {},
   "outputs": [],
   "source": [
    "from math import log\n",
    "\n",
    "from collections import Counter\n",
    "s='ACGCGTAGCCCTAACAGGTGACACTTATGAATGCCTCCTACAGTAATCGTAATAAATCCTGCTTCCCTGAAGCCTGGAAA'\n",
    "A=0.079,0.165, 0.200, 0.271, 0.315, 0.371, 0.414, 0.457, 0.533, 0.568, 0.627, 0.711, 0.758, 0.790, 0.834, 0.915\n",
    "count=Counter(s)\n",
    "gc=count['G']+count['C']\n",
    "at=count['A']+count['T']\n",
    "for each in A:\n",
    "    prob=gc*log(each/2,10)+at*log((1-each)/2,10)\n",
    "    print(prob)"
   ]
  }
 ],
 "metadata": {
  "kernelspec": {
   "display_name": "Python 3.8.8 ('base')",
   "language": "python",
   "name": "python3"
  },
  "language_info": {
   "codemirror_mode": {
    "name": "ipython",
    "version": 3
   },
   "file_extension": ".py",
   "mimetype": "text/x-python",
   "name": "python",
   "nbconvert_exporter": "python",
   "pygments_lexer": "ipython3",
   "version": "3.8.8"
  },
  "orig_nbformat": 4,
  "vscode": {
   "interpreter": {
    "hash": "957668f77d739aed3606dc0cb3e6b9836150d21e7c3a979985571ea2faa3bd84"
   }
  }
 },
 "nbformat": 4,
 "nbformat_minor": 2
}
