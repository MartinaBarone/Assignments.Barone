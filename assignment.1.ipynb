{
 "cells": [
  {
   "cell_type": "markdown",
   "metadata": {},
   "source": [
    "Barone Martina\n",
    "\n",
    "BASIC DATA TYPES:"
   ]
  },
  {
   "cell_type": "markdown",
   "metadata": {},
   "source": [
    "List Comprehensions"
   ]
  },
  {
   "cell_type": "code",
   "execution_count": null,
   "metadata": {},
   "outputs": [],
   "source": [
    "if __name__ == '__main__':\n",
    "    x = int(input())\n",
    "    y = int(input())\n",
    "    z = int(input())\n",
    "    n = int(input())\n",
    "    \n",
    "    \n",
    "                    \n",
    "print([[w,q,i]for w in range(x+1) for q in range(y+1) for i in range(z+1) if n!=w+q+i])"
   ]
  },
  {
   "cell_type": "markdown",
   "metadata": {},
   "source": [
    "Find the Runner-Up Score!"
   ]
  },
  {
   "cell_type": "code",
   "execution_count": null,
   "metadata": {},
   "outputs": [],
   "source": [
    "if __name__ == '__main__':\n",
    "    n = int(input())\n",
    "    arr = map(int, input().split())\n",
    "   \n",
    "    score_set=set(arr)\n",
    "    score_list=list(score_set)\n",
    "    score_list.sort(reverse=True)\n",
    "    score_max=max(score_list)\n",
    "    score_list.remove(score_max)\n",
    "    runner_up=max(score_list)\n",
    "    print(runner_up)"
   ]
  },
  {
   "cell_type": "markdown",
   "metadata": {},
   "source": [
    "Finding the percentage"
   ]
  },
  {
   "cell_type": "code",
   "execution_count": null,
   "metadata": {},
   "outputs": [],
   "source": [
    "if __name__ == '__main__':\n",
    "    n = int(input())\n",
    "    student_marks = {}\n",
    "    for _ in range(n):\n",
    "        name, *line = input().split()\n",
    "        scores = list(map(float, line))\n",
    "        student_marks[name] = scores\n",
    "    query_name = input()\n",
    "    \n",
    "    student_scores=student_marks[query_name]\n",
    "    l=len(scores)\n",
    "    average=sum(student_scores)/l\n",
    "    print(format(average,\".2f\"))"
   ]
  },
  {
   "cell_type": "markdown",
   "metadata": {},
   "source": [
    "Lists"
   ]
  },
  {
   "cell_type": "code",
   "execution_count": null,
   "metadata": {},
   "outputs": [],
   "source": [
    "if __name__ == '__main__':\n",
    "    N = int(input())\n",
    "    \n",
    "    new_list=[]\n",
    "    for i in range(N):\n",
    "        command=input().split()\n",
    "        if command[0]=='insert':\n",
    "            new_list.insert(int(command[1]),int(command[2]))\n",
    "        elif command[0]=='print':\n",
    "            print(new_list)\n",
    "        elif command[0]=='remove':\n",
    "            new_list.remove(int(command[1]))\n",
    "        elif command[0]=='append':\n",
    "            new_list.append(int(command[1]))\n",
    "        elif command[0]=='pop':\n",
    "            new_list.pop()\n",
    "        elif command[0]=='sort':\n",
    "            new_list.sort()\n",
    "        elif command[0]=='reverse':\n",
    "            new_list.reverse()\n",
    "    "
   ]
  },
  {
   "cell_type": "markdown",
   "metadata": {},
   "source": [
    "Tuples"
   ]
  },
  {
   "cell_type": "code",
   "execution_count": null,
   "metadata": {},
   "outputs": [],
   "source": [
    "if __name__ == '__main__':\n",
    "    n = int(input())\n",
    "    integer_list = map(int, input().split())\n",
    "    \n",
    "    t=tuple(integer_list)\n",
    "    result=hash(t)\n",
    "    print(result)"
   ]
  },
  {
   "cell_type": "markdown",
   "metadata": {},
   "source": [
    "STRINGS:"
   ]
  },
  {
   "cell_type": "markdown",
   "metadata": {},
   "source": [
    "What's your name"
   ]
  },
  {
   "cell_type": "code",
   "execution_count": null,
   "metadata": {},
   "outputs": [],
   "source": [
    "def print_full_name(first, last):\n",
    "    print('Hello '+ first +\" \" + last + \"!\" + \" You just delved into python.\")\n",
    "\n",
    "if __name__ == '__main__':\n",
    "    first_name = input()\n",
    "    last_name = input()\n",
    "    print_full_name(first_name, last_name)"
   ]
  },
  {
   "cell_type": "markdown",
   "metadata": {},
   "source": [
    "sWAP cASE"
   ]
  },
  {
   "cell_type": "code",
   "execution_count": null,
   "metadata": {},
   "outputs": [],
   "source": [
    "def swap_case(s):\n",
    "    return s.swapcase()\n",
    "\n",
    "if __name__ == '__main__':\n",
    "    s = input()\n",
    "    result = swap_case(s)\n",
    "    print(result)"
   ]
  },
  {
   "cell_type": "markdown",
   "metadata": {},
   "source": [
    "String Split and Join"
   ]
  },
  {
   "cell_type": "code",
   "execution_count": null,
   "metadata": {},
   "outputs": [],
   "source": [
    "def split_and_join(line):\n",
    "    string_list=line.split(\" \")\n",
    "    result=\"-\".join(string_list)\n",
    "    return result\n",
    "    \n",
    "if __name__ == '__main__':\n",
    "    line = input()\n",
    "    result = split_and_join(line)\n",
    "    print(result)"
   ]
  },
  {
   "cell_type": "markdown",
   "metadata": {},
   "source": [
    "Mutations"
   ]
  },
  {
   "cell_type": "code",
   "execution_count": null,
   "metadata": {},
   "outputs": [],
   "source": [
    "def mutate_string(string, position, character):\n",
    "    lst=list(string)\n",
    "    lst[position]=character\n",
    "    string=''.join(lst)\n",
    "    return string\n",
    "\n",
    "if __name__ == '__main__':\n",
    "    s = input()\n",
    "    i, c = input().split()\n",
    "    s_new = mutate_string(s, int(i), c)\n",
    "    print(s_new)"
   ]
  },
  {
   "cell_type": "markdown",
   "metadata": {},
   "source": [
    "SETS:"
   ]
  },
  {
   "cell_type": "markdown",
   "metadata": {},
   "source": [
    "Introduction to Sets"
   ]
  },
  {
   "cell_type": "code",
   "execution_count": null,
   "metadata": {},
   "outputs": [],
   "source": [
    "def average(array):\n",
    "    set_arr=set(array)\n",
    "    set_sum=sum(set_arr)\n",
    "    result=set_sum/len(set_arr)\n",
    "    return result\n",
    "\n",
    "if __name__ == '__main__':\n",
    "    n = int(input())\n",
    "    arr = list(map(int, input().split()))\n",
    "    result = average(arr)\n",
    "    print(result)"
   ]
  },
  {
   "cell_type": "markdown",
   "metadata": {},
   "source": [
    "Set .add()"
   ]
  },
  {
   "cell_type": "code",
   "execution_count": null,
   "metadata": {},
   "outputs": [],
   "source": [
    "countries=int(input())\n",
    "countries_set=set()\n",
    "for each in range(countries):\n",
    "    countries_set.add(input())\n",
    "print(len(countries_set))"
   ]
  },
  {
   "cell_type": "markdown",
   "metadata": {},
   "source": [
    "Set .intersection() Operation"
   ]
  },
  {
   "cell_type": "code",
   "execution_count": null,
   "metadata": {},
   "outputs": [],
   "source": [
    "n1=int(input())\n",
    "eng_students=input().split()\n",
    "eng_set=set(eng_students)\n",
    "n2=int(input())\n",
    "french_students=input().split()\n",
    "french_set=set(french_students)\n",
    "intersection=eng_set.intersection(french_set)\n",
    "result=len(intersection)\n",
    "print(result)"
   ]
  },
  {
   "cell_type": "markdown",
   "metadata": {},
   "source": [
    "Set .difference() Operation"
   ]
  },
  {
   "cell_type": "code",
   "execution_count": null,
   "metadata": {},
   "outputs": [],
   "source": [
    "n1=int(input())\n",
    "students_eng=input().split()\n",
    "eng_set=set(students_eng)\n",
    "n2=int(input())\n",
    "students_french=input().split()\n",
    "french_set=set(students_french)\n",
    "difference=eng_set.difference(french_set)\n",
    "result=len(difference)\n",
    "print(result)\n"
   ]
  },
  {
   "cell_type": "markdown",
   "metadata": {},
   "source": [
    "MATH:"
   ]
  },
  {
   "cell_type": "markdown",
   "metadata": {},
   "source": [
    "Mod Divmod"
   ]
  },
  {
   "cell_type": "code",
   "execution_count": null,
   "metadata": {},
   "outputs": [],
   "source": [
    "a=int(input())\n",
    "b=int(input())\n",
    "print(a//b)\n",
    "print(a%b)\n",
    "print (divmod(a,b))"
   ]
  },
  {
   "cell_type": "markdown",
   "metadata": {},
   "source": [
    "Power - Mod Power"
   ]
  },
  {
   "cell_type": "code",
   "execution_count": null,
   "metadata": {},
   "outputs": [],
   "source": [
    "a,b,m=int(input()), int(input()), int(input())\n",
    "print(pow(a,b))\n",
    "print(pow(a,b,m))\n"
   ]
  },
  {
   "cell_type": "markdown",
   "metadata": {},
   "source": [
    "Integers Come In All Sizes"
   ]
  },
  {
   "cell_type": "code",
   "execution_count": null,
   "metadata": {},
   "outputs": [],
   "source": [
    "a=int(input())\n",
    "b=int(input())\n",
    "c=int(input())\n",
    "d=int(input())\n",
    "\n",
    "\n",
    "print(a**b+c**d)"
   ]
  },
  {
   "cell_type": "markdown",
   "metadata": {},
   "source": [
    "Triangle Quest"
   ]
  },
  {
   "cell_type": "code",
   "execution_count": null,
   "metadata": {},
   "outputs": [],
   "source": [
    "for each in range(1, int(input())):\n",
    "    print((pow(10,each)//9)*each)"
   ]
  },
  {
   "cell_type": "markdown",
   "metadata": {},
   "source": [
    "ITERTOOLS:"
   ]
  },
  {
   "cell_type": "markdown",
   "metadata": {},
   "source": [
    "itertools.permutations()"
   ]
  },
  {
   "cell_type": "code",
   "execution_count": null,
   "metadata": {},
   "outputs": [],
   "source": [
    "string,num=input().split()\n",
    "number=int(num)\n",
    "string_sorted=sorted(string)\n",
    "from itertools import permutations\n",
    "result=list(permutations(string_sorted,number))\n",
    "for pair in result:\n",
    "    print(\"\".join(pair))\n"
   ]
  },
  {
   "cell_type": "markdown",
   "metadata": {},
   "source": [
    "itertools.combinations()"
   ]
  },
  {
   "cell_type": "code",
   "execution_count": null,
   "metadata": {},
   "outputs": [],
   "source": [
    "from itertools import combinations\n",
    "string,num=input().split()\n",
    "number=int(num)\n",
    "string_sorted=sorted(string)\n",
    "\n",
    "for n in range(1,number+1):\n",
    "  for element in list(combinations(string_sorted,n)):\n",
    "    print(\"\".join(element))\n"
   ]
  },
  {
   "cell_type": "markdown",
   "metadata": {},
   "source": [
    "itertools.combinations_with_replacement()"
   ]
  },
  {
   "cell_type": "code",
   "execution_count": null,
   "metadata": {},
   "outputs": [],
   "source": [
    "string,number=input().split()\n",
    "number=int(number)\n",
    "string_sorted=sorted(string) \n",
    "from itertools import combinations_with_replacement\n",
    "combinations= list(combinations_with_replacement(string_sorted,number))\n",
    "for pairs in combinations:\n",
    "    print(\"\".join(pairs))\n"
   ]
  },
  {
   "cell_type": "markdown",
   "metadata": {},
   "source": [
    "Compress the String!"
   ]
  },
  {
   "cell_type": "code",
   "execution_count": null,
   "metadata": {},
   "outputs": [],
   "source": [
    "from itertools import groupby\n",
    "  \n",
    "for x,y in groupby(input()):\n",
    "    print((len(list(y)), int(x)),end=' ')\n"
   ]
  },
  {
   "cell_type": "markdown",
   "metadata": {},
   "source": [
    "COLLECTIONS:"
   ]
  },
  {
   "cell_type": "markdown",
   "metadata": {},
   "source": [
    "collections.Counter()"
   ]
  },
  {
   "cell_type": "code",
   "execution_count": null,
   "metadata": {},
   "outputs": [],
   "source": [
    "from collections import Counter\n",
    "n=int(input())\n",
    "size=list(input().split())\n",
    "dict_size=dict(Counter(size))\n",
    "customer=int(input())\n",
    "earn=0\n",
    "\n",
    "for i in range(customer):\n",
    "    size,price=input().split()\n",
    "    if size in dict_size.keys():\n",
    "        if dict_size[size] !=0:\n",
    "            dict_size[size]-=1\n",
    "            earn += int(price)\n",
    "print(earn)\n"
   ]
  },
  {
   "cell_type": "markdown",
   "metadata": {},
   "source": [
    "Collections.namedtuple()"
   ]
  },
  {
   "cell_type": "code",
   "execution_count": null,
   "metadata": {},
   "outputs": [],
   "source": [
    "from collections import namedtuple\n",
    "total_students=int(input())\n",
    "columns=namedtuple('columns', input())\n",
    "grades_list=[]\n",
    "for element in range(total_students):\n",
    "    student=input().split()\n",
    "    grades=float(columns(*student).MARKS)\n",
    "    grades_list.append(grades)\n",
    "    result=(sum(grades_list)/total_students)\n",
    "print(result)"
   ]
  },
  {
   "cell_type": "markdown",
   "metadata": {},
   "source": [
    "Word Order"
   ]
  },
  {
   "cell_type": "code",
   "execution_count": null,
   "metadata": {},
   "outputs": [],
   "source": [
    "from collections import Counter\n",
    "n=int(input())\n",
    "words=list()\n",
    "for each in range(n):\n",
    "    words.append(input())\n",
    "occurences=Counter(words)\n",
    "number_words=len(occurences)\n",
    "print(number_words)\n",
    "number_occurences=occurences.values()\n",
    "print(*number_occurences)\n"
   ]
  },
  {
   "cell_type": "markdown",
   "metadata": {},
   "source": [
    "Collections.deque()"
   ]
  },
  {
   "cell_type": "code",
   "execution_count": null,
   "metadata": {},
   "outputs": [],
   "source": [
    "from collections import deque\n",
    "deq=deque()\n",
    "n=int(input())\n",
    "for each in range(n):\n",
    "    command=list(input().split())\n",
    "    if command[0]=='append':\n",
    "        deq.append(command[1])\n",
    "    if command[0]=='appendleft':\n",
    "        deq.appendleft(command[1])\n",
    "    if command[0]=='pop':\n",
    "        deq.pop()\n",
    "    if command[0]=='popleft':\n",
    "        deq.popleft()\n",
    "for element in deq:\n",
    "    print(element,end=' ')\n"
   ]
  }
 ],
 "metadata": {
  "kernelspec": {
   "display_name": "Python 3.8.8 ('base')",
   "language": "python",
   "name": "python3"
  },
  "language_info": {
   "codemirror_mode": {
    "name": "ipython",
    "version": 3
   },
   "file_extension": ".py",
   "mimetype": "text/x-python",
   "name": "python",
   "nbconvert_exporter": "python",
   "pygments_lexer": "ipython3",
   "version": "3.8.8"
  },
  "orig_nbformat": 4,
  "vscode": {
   "interpreter": {
    "hash": "957668f77d739aed3606dc0cb3e6b9836150d21e7c3a979985571ea2faa3bd84"
   }
  }
 },
 "nbformat": 4,
 "nbformat_minor": 2
}
