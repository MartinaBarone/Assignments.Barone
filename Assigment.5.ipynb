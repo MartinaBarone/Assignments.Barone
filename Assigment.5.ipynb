{
 "cells": [
  {
   "attachments": {},
   "cell_type": "markdown",
   "metadata": {},
   "source": [
    "Martina Barone"
   ]
  },
  {
   "attachments": {},
   "cell_type": "markdown",
   "metadata": {},
   "source": [
    "-SPLC"
   ]
  },
  {
   "cell_type": "code",
   "execution_count": null,
   "metadata": {},
   "outputs": [],
   "source": [
    "from Bio import SeqIO\n",
    "sequences=[]\n",
    "translation_dict = {\"CUU\": \"L\", \"AUU\": \"I\", \"GUU\": \"V\",\"GUC\": \"V\",\"UUC\": \"F\", \"CUC\": \"L\", \"AUC\": \"I\",  \"GCC\": \"A\",\n",
    "           \"UUA\": \"L\", \"CUA\": \"L\", \"AUA\": \"I\", \"GUA\": \"V\",\"UUG\": \"L\", \"CUG\": \"L\", \"AUG\": \"M\", \"GUG\": \"V\",\n",
    "           \"UCU\": \"S\", \"CCU\": \"P\", \"ACU\": \"T\", \"GCU\": \"A\",\"UCC\": \"S\", \"CCC\": \"P\", \"ACC\": \"T\", \"AAA\": \"K\",\n",
    "            \"UCA\": \"S\", \"CCA\": \"P\", \"ACA\": \"T\", \"GCA\": \"A\",\"UCG\": \"S\", \"CCG\": \"P\", \"ACG\": \"T\", \"GCG\": \"A\",\n",
    "           \"UAU\": \"Y\", \"CAU\": \"H\", \"AAU\": \"N\", \"GAU\": \"D\",\"UAC\": \"Y\", \"CAC\": \"H\", \"AAC\": \"N\", \"GAC\": \"D\",\n",
    "           \"UAA\": \"stop\", \"CAA\": \"Q\",  \"GAA\": \"E\",\"UAG\": \"stop\",\"CAG\": \"Q\", \"AAG\": \"K\", \"GAG\": \"E\",\"GGU\": \"G\",\n",
    "            \"UGU\": \"C\", \"CGU\": \"R\", \"AGU\": \"S\", \"AGA\": \"R\",\"UGC\": \"C\", \"CGC\": \"R\", \"AGC\": \"S\", \"GGC\": \"G\",\n",
    "           \"UGA\": \"stop\", \"CGA\": \"R\", \"GGA\": \"G\",\n",
    "           \"UGG\": \"W\", \"CGG\": \"R\", \"AGG\": \"R\", \"GGG\": \"G\",\"UUU\": \"F\"}\n",
    "with open('splc.txt', \"r\") as file:\n",
    "    for seq in SeqIO.parse('splc.txt', \"fasta\"):\n",
    "        sequences.append(str(seq.seq))\n",
    "        dna=sequences[0]\n",
    "        introns=sequences[1:]\n",
    "    \n",
    "    for x in range(len(introns)):\n",
    "        dna= dna.replace(introns[x],\"\")\n",
    "        rna=dna.replace('T','U')\n",
    "    codons=[]\n",
    "    prot=[]\n",
    "    while rna:\n",
    "        codons.append(rna[:3])\n",
    "        rna=rna[3:]\n",
    "    for each in codons:\n",
    "        amminoacid=translation_dict.get(each)\n",
    "        if amminoacid=='stop':\n",
    "            break\n",
    "        else:\n",
    "            prot.append(amminoacid)\n",
    "    \n",
    "    print(''.join(prot))"
   ]
  },
  {
   "attachments": {},
   "cell_type": "markdown",
   "metadata": {},
   "source": [
    "-TRAN"
   ]
  },
  {
   "cell_type": "code",
   "execution_count": null,
   "metadata": {},
   "outputs": [],
   "source": [
    "from Bio import SeqIO\n",
    "with open('tran.txt', \"r\") as file:\n",
    "    sequences=list()\n",
    "    for seq in SeqIO.parse('tran.txt', \"fasta\"):\n",
    "        sequences.append(str(seq.seq))\n",
    "    s1=sequences[0]\n",
    "    s2=sequences[1]\n",
    "    transitions=[('GA'),('TC'),('CT'),('AG')]\n",
    "    transit=0\n",
    "    transv=0\n",
    "    for i in range(len(s1)):\n",
    "        if s1[i]!=s2[i]:\n",
    "            pair=str(s1[i]+s2[i])\n",
    "            if  pair in transitions:\n",
    "                transit += 1\n",
    "            else:\n",
    "                transv += 1\n",
    "\n",
    "ratio=transit/transv\n",
    "print(ratio)"
   ]
  },
  {
   "attachments": {},
   "cell_type": "markdown",
   "metadata": {},
   "source": [
    "-PPER"
   ]
  },
  {
   "cell_type": "code",
   "execution_count": null,
   "metadata": {},
   "outputs": [],
   "source": [
    "n=92\n",
    "k=9\n",
    "permutat=1\n",
    "\n",
    "for i in range(k):\n",
    "    permutat = permutat*(n-i)\n",
    "    res = permutat % 1000000\n",
    "    \n",
    "print(res)"
   ]
  },
  {
   "attachments": {},
   "cell_type": "markdown",
   "metadata": {},
   "source": [
    "-GRPH"
   ]
  },
  {
   "cell_type": "code",
   "execution_count": null,
   "metadata": {},
   "outputs": [],
   "source": [
    "from Bio import SeqIO\n",
    "dna_id=[]\n",
    "dna_strings=[]\n",
    "\n",
    "for seq in SeqIO.parse('grph.txt', \"fasta\"):\n",
    "        dna_strings.append(str(seq.seq))\n",
    "        dna_id.append(str(seq.id))\n",
    "for x in range(len(dna_strings)):\n",
    "    for y in range(len(dna_strings)):\n",
    "        if x!=y and dna_strings[x][-3:]==dna_strings[y][:3]:\n",
    "                print(dna_id[x],dna_id[y])"
   ]
  },
  {
   "attachments": {},
   "cell_type": "markdown",
   "metadata": {},
   "source": [
    "-TREE"
   ]
  },
  {
   "cell_type": "code",
   "execution_count": null,
   "metadata": {},
   "outputs": [],
   "source": [
    "with open('tree.txt','r') as file:\n",
    "    tot_nodes=int(file.readline())\n",
    "    nodes=file.readlines()\n",
    "    edges=tot_nodes-len(nodes)-1\n",
    "    print(edges)"
   ]
  },
  {
   "attachments": {},
   "cell_type": "markdown",
   "metadata": {},
   "source": [
    "-PMCH"
   ]
  },
  {
   "cell_type": "code",
   "execution_count": null,
   "metadata": {},
   "outputs": [],
   "source": [
    "from Bio import SeqIO\n",
    "from collections import Counter\n",
    "from math import factorial\n",
    "for seq in SeqIO.parse('pmch.txt', \"fasta\"):\n",
    "        rna=seq.seq\n",
    "        occurences=Counter(rna)\n",
    "        a_u=occurences['A']\n",
    "        g_c=occurences['C']\n",
    "        result=factorial(a_u)*factorial(g_c)\n",
    "        print(result)"
   ]
  },
  {
   "attachments": {},
   "cell_type": "markdown",
   "metadata": {},
   "source": [
    "-SSEQ"
   ]
  },
  {
   "cell_type": "code",
   "execution_count": null,
   "metadata": {},
   "outputs": [],
   "source": [
    "from Bio import SeqIO\n",
    "dna_strings=list()\n",
    "s=''\n",
    "t=''\n",
    "result=[]\n",
    "for seq in SeqIO.parse('sseq.txt', \"fasta\"):\n",
    "        dna_strings.append(str(seq.seq))\n",
    "s=dna_strings[0]\n",
    "t=dna_strings[1]\n",
    "\n",
    "pos_s= 0\n",
    "pos_t = 0\n",
    "\n",
    "\n",
    "while pos_s < len(s) and pos_t < len(t):\n",
    "    if s[pos_s] == t[pos_t]:\n",
    "        index=pos_s+1\n",
    "        result.append(index)\n",
    "        pos_s += 1\n",
    "        pos_t += 1\n",
    "    else:\n",
    "        pos_s +=1\n",
    "\n",
    "print(*result) "
   ]
  },
  {
   "attachments": {},
   "cell_type": "markdown",
   "metadata": {},
   "source": [
    "-ORF"
   ]
  },
  {
   "cell_type": "code",
   "execution_count": null,
   "metadata": {},
   "outputs": [],
   "source": [
    "from Bio import SeqIO\n",
    "translation_dict = {\"CUU\": \"L\", \"AUU\": \"I\", \"GUU\": \"V\",\"GUC\": \"V\",\"UUC\": \"F\", \"CUC\": \"L\", \"AUC\": \"I\",  \"GCC\": \"A\",\n",
    "           \"UUA\": \"L\", \"CUA\": \"L\", \"AUA\": \"I\", \"GUA\": \"V\",\"UUG\": \"L\", \"CUG\": \"L\", \"AUG\": \"M\", \"GUG\": \"V\",\n",
    "           \"UCU\": \"S\", \"CCU\": \"P\", \"ACU\": \"T\", \"GCU\": \"A\",\"UCC\": \"S\", \"CCC\": \"P\", \"ACC\": \"T\", \"AAA\": \"K\",\n",
    "            \"UCA\": \"S\", \"CCA\": \"P\", \"ACA\": \"T\", \"GCA\": \"A\",\"UCG\": \"S\", \"CCG\": \"P\", \"ACG\": \"T\", \"GCG\": \"A\",\n",
    "           \"UAU\": \"Y\", \"CAU\": \"H\", \"AAU\": \"N\", \"GAU\": \"D\",\"UAC\": \"Y\", \"CAC\": \"H\", \"AAC\": \"N\", \"GAC\": \"D\",\n",
    "           \"UAA\": \"stop\", \"CAA\": \"Q\",  \"GAA\": \"E\",\"UAG\": \"stop\",\"CAG\": \"Q\", \"AAG\": \"K\", \"GAG\": \"E\",\"GGU\": \"G\",\n",
    "            \"UGU\": \"C\", \"CGU\": \"R\", \"AGU\": \"S\", \"AGA\": \"R\",\"UGC\": \"C\", \"CGC\": \"R\", \"AGC\": \"S\", \"GGC\": \"G\",\n",
    "           \"UGA\": \"stop\", \"CGA\": \"R\", \"GGA\": \"G\",\n",
    "           \"UGG\": \"W\", \"CGG\": \"R\", \"AGG\": \"R\", \"GGG\": \"G\",\"UUU\": \"F\"}\n",
    "for seq in SeqIO.parse('rosalind_orf.txt', \"fasta\"):\n",
    "    dna=str(seq.seq)\n",
    "rna=dna.replace('T','U')\n",
    "\n",
    "rna_rev = rna[::-1]\n",
    "rev_c = []\n",
    "for nuc in rna_rev:\n",
    "    if nuc == \"G\": \n",
    "        rev_c.append(\"C\")\n",
    "    elif nuc == \"U\": \n",
    "        rev_c.append(\"A\")\n",
    "    elif nuc == \"A\": \n",
    "        rev_c.append(\"U\")\n",
    "    elif nuc == \"C\": \n",
    "        rev_c.append(\"G\")\n",
    "rev_c = ''.join(rev_c)\n",
    "\n",
    "result=[]\n",
    "for i in range(len(rna)-2):\n",
    "    if rna[i:i+3]=='AUG':\n",
    "        x=i\n",
    "        protein=''\n",
    "        cod='AUG'\n",
    "        while translation_dict[cod]!=\"stop\":\n",
    "            protein+=translation_dict[cod]\n",
    "            x+=3\n",
    "            if x>len(rna)-3:\n",
    "                break\n",
    "            cod=rna[x:x+3]\n",
    "        if translation_dict[cod]==\"stop\":\n",
    "            if protein not in result:\n",
    "                result.append(protein)\n",
    "for i in range(len(rev_c)-2):\n",
    "    if rev_c[i:i+3]=='AUG':\n",
    "        x=i\n",
    "        protein=''\n",
    "        cod='AUG'\n",
    "        while translation_dict[cod]!=\"stop\":\n",
    "            protein+=translation_dict[cod]\n",
    "            x+=3\n",
    "            if x>len(rev_c)-3:\n",
    "                break\n",
    "            cod=rev_c[x:x+3]\n",
    "        if translation_dict[cod]==\"stop\":\n",
    "            if protein not in result:\n",
    "                result.append(protein)\n",
    "for ii in result:\n",
    "    print(ii)"
   ]
  },
  {
   "attachments": {},
   "cell_type": "markdown",
   "metadata": {},
   "source": [
    "-LONG"
   ]
  },
  {
   "cell_type": "code",
   "execution_count": null,
   "metadata": {},
   "outputs": [],
   "source": [
    "from Bio import SeqIO\n",
    "sequences=[]\n",
    "with open('long.txt','r') as file:\n",
    "    for seq in SeqIO.parse('long.txt', \"fasta\"):\n",
    "        sequences.append(str(seq.seq))\n",
    "s1=sequences[0]\n",
    "s2=sequences[1:]\n",
    "\n",
    "def long(s1,s2):\n",
    "    if not s1:\n",
    "        return s2\n",
    "    elif not s2:\n",
    "        return s1\n",
    "    else:\n",
    "        lst = len(s2[0])\n",
    "        for x in range(lst//2,lst)[::-1]:\n",
    "            for y in s2:\n",
    "                if s1[:x]==y[-x:]:\n",
    "                    s1=y+s1[x:]\n",
    "                    s2.remove(y)\n",
    "                    break\n",
    "                elif s1[-x:]==y[:x]:\n",
    "                    s1=s1+y[x:]\n",
    "                    s2.remove(y)\n",
    "                    break\n",
    "                else:\n",
    "                    continue\n",
    "                break\n",
    "        return long(s1, s2)\n",
    "print(long(s1, s2))"
   ]
  },
  {
   "attachments": {},
   "cell_type": "markdown",
   "metadata": {},
   "source": [
    "-MPRT"
   ]
  },
  {
   "cell_type": "code",
   "execution_count": null,
   "metadata": {},
   "outputs": [],
   "source": [
    "import sys\n",
    "import requests\n",
    "url = \"http://www.uniprot.org/uniprot/{}.fasta\"\n",
    "\n",
    "l= 5\n",
    "file=open('rosalind_mprt.txt')\n",
    "lines=file.readlines()\n",
    "prot_id = [i.strip() for i in lines]\n",
    "\n",
    "\n",
    "proteins=list()\n",
    "for each in prot_id:\n",
    "    req=requests.get(url.format(each))\n",
    "    res=req.text.split(\"\\n\")\n",
    "    prot=''.join(res[1:])\n",
    "    proteins.append((each, prot))\n",
    "\n",
    "for each, prot in proteins:\n",
    "    positions=list()\n",
    "    l=5\n",
    "    for i in range(len(prot) -l+1):\n",
    "        if prot[i] == 'N':\n",
    "            if prot[i + 1] != 'P':\n",
    "                if prot[i + 2] == 'T' or prot[i + 2] == 'S':\n",
    "                    if prot[i + 3] != 'P':\n",
    "                        positions.append(i + 1)\n",
    "    if len(positions) > 0:\n",
    "        print(each)\n",
    "        print(' '.join([str(x) for x in positions]))"
   ]
  }
 ],
 "metadata": {
  "kernelspec": {
   "display_name": "Python 3.10.8 64-bit",
   "language": "python",
   "name": "python3"
  },
  "language_info": {
   "name": "python",
   "version": "3.10.8 (tags/v3.10.8:aaaf517, Oct 11 2022, 16:50:30) [MSC v.1933 64 bit (AMD64)]"
  },
  "orig_nbformat": 4,
  "vscode": {
   "interpreter": {
    "hash": "e7ccb2a435b656723dafd2fb88eb02b6891256ab8b77d2cf3044cea9811453d0"
   }
  }
 },
 "nbformat": 4,
 "nbformat_minor": 2
}
