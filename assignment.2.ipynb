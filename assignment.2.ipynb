{
 "cells": [
  {
   "cell_type": "markdown",
   "metadata": {},
   "source": [
    "Martina Barone\n"
   ]
  },
  {
   "cell_type": "markdown",
   "metadata": {},
   "source": [
    "ALGORITHMS"
   ]
  },
  {
   "cell_type": "markdown",
   "metadata": {},
   "source": [
    "WARM UP:"
   ]
  },
  {
   "cell_type": "markdown",
   "metadata": {},
   "source": [
    "Solve Me First"
   ]
  },
  {
   "cell_type": "code",
   "execution_count": null,
   "metadata": {},
   "outputs": [],
   "source": [
    "def solveMeFirst(a,b):\n",
    "    return a+b\n",
    "\n",
    "num1 = int(input())\n",
    "num2 = int(input())\n",
    "res = solveMeFirst(num1,num2)\n",
    "print(res)"
   ]
  },
  {
   "cell_type": "markdown",
   "metadata": {},
   "source": [
    "Simple Array Sum"
   ]
  },
  {
   "cell_type": "code",
   "execution_count": null,
   "metadata": {},
   "outputs": [],
   "source": [
    "\n",
    "\n",
    "import math\n",
    "import os\n",
    "import random\n",
    "import re\n",
    "import sys\n",
    "\n",
    "\n",
    "def simpleArraySum(ar):\n",
    "    result=0\n",
    "    for number in ar:\n",
    "        result+=number\n",
    "    return result\n",
    "\n",
    "if __name__ == '__main__':\n",
    "    fptr = open(os.environ['OUTPUT_PATH'], 'w')\n",
    "\n",
    "    ar_count = int(input().strip())\n",
    "\n",
    "    ar = list(map(int, input().rstrip().split()))\n",
    "\n",
    "    result = simpleArraySum(ar)\n",
    "\n",
    "    fptr.write(str(result) + '\\n')\n",
    "\n",
    "    fptr.close()\n",
    "\n"
   ]
  },
  {
   "cell_type": "markdown",
   "metadata": {},
   "source": [
    "A Very Big Sum"
   ]
  },
  {
   "cell_type": "code",
   "execution_count": null,
   "metadata": {},
   "outputs": [],
   "source": [
    "\n",
    "\n",
    "import math\n",
    "import os\n",
    "import random\n",
    "import re\n",
    "import sys\n",
    "\n",
    "\n",
    "\n",
    "def aVeryBigSum(ar):\n",
    "    result=0\n",
    "    for number in ar:\n",
    "        result+=number\n",
    "    return result\n",
    "\n",
    "if __name__ == '__main__':\n",
    "    fptr = open(os.environ['OUTPUT_PATH'], 'w')\n",
    "\n",
    "    ar_count = int(input().strip())\n",
    "\n",
    "    ar = list(map(int, input().rstrip().split()))\n",
    "\n",
    "    result = aVeryBigSum(ar)\n",
    "\n",
    "    fptr.write(str(result) + '\\n')\n",
    "\n",
    "    fptr.close()\n",
    "\n"
   ]
  },
  {
   "cell_type": "markdown",
   "metadata": {},
   "source": [
    "Birthday Cake Candles"
   ]
  },
  {
   "cell_type": "code",
   "execution_count": null,
   "metadata": {},
   "outputs": [],
   "source": [
    "\n",
    "\n",
    "\n",
    "import math\n",
    "import os\n",
    "import random\n",
    "import re\n",
    "import sys\n",
    "\n",
    "\n",
    "\n",
    "def birthdayCakeCandles(candles):\n",
    "    l=[]\n",
    "    mx=max(candles)\n",
    "    for each in candles:\n",
    "        if each==mx:\n",
    "            l.append(each)\n",
    "            tallest_candles=len(l)\n",
    "        else:\n",
    "            continue\n",
    "    return tallest_candles\n",
    "            \n",
    "\n",
    "if __name__ == '__main__':\n",
    "    fptr = open(os.environ['OUTPUT_PATH'], 'w')\n",
    "\n",
    "    candles_count = int(input().strip())\n",
    "\n",
    "    candles = list(map(int, input().rstrip().split()))\n",
    "\n",
    "    result = birthdayCakeCandles(candles)\n",
    "\n",
    "    fptr.write(str(result) + '\\n')\n",
    "\n",
    "    fptr.close()"
   ]
  },
  {
   "cell_type": "markdown",
   "metadata": {},
   "source": [
    "Mini-Max Sum"
   ]
  },
  {
   "cell_type": "code",
   "execution_count": null,
   "metadata": {},
   "outputs": [],
   "source": [
    "\n",
    "\n",
    "import math\n",
    "import os\n",
    "import random\n",
    "import re\n",
    "import sys\n",
    "\n",
    "\n",
    "\n",
    "def miniMaxSum(arr):\n",
    "    mx=max(arr)\n",
    "    arr.remove(mx)\n",
    "    sum1=sum(arr)\n",
    "    mn=min(arr)\n",
    "    arr.remove(mn)\n",
    "    arr.append(mx)\n",
    "    sum2=sum(arr)\n",
    "    print(sum1,sum2)\n",
    "\n",
    "if __name__ == '__main__':\n",
    "\n",
    "    arr = list(map(int, input().rstrip().split()))\n",
    "\n",
    "    miniMaxSum(arr)"
   ]
  },
  {
   "cell_type": "markdown",
   "metadata": {},
   "source": [
    "Plus Minus"
   ]
  },
  {
   "cell_type": "code",
   "execution_count": null,
   "metadata": {},
   "outputs": [],
   "source": [
    "\n",
    "\n",
    "import math\n",
    "import os\n",
    "import random\n",
    "import re\n",
    "import sys\n",
    "\n",
    "\n",
    "\n",
    "def plusMinus(arr):\n",
    "    counter_0=0\n",
    "    counter_positive=0\n",
    "    counter_negative=0\n",
    "    for number in arr:\n",
    "        if number==0:\n",
    "            counter_0+=1\n",
    "        elif number<0:\n",
    "            counter_negative+=1\n",
    "        else:\n",
    "            counter_positive+=1\n",
    "    print(counter_positive/n)\n",
    "    print(counter_negative/n)\n",
    "    print(counter_0/n)\n",
    "    \n",
    "\n",
    "if __name__ == '__main__':\n",
    "    n = int(input().strip())\n",
    "\n",
    "    arr = list(map(int, input().rstrip().split()))\n",
    "\n",
    "    plusMinus(arr)"
   ]
  },
  {
   "cell_type": "markdown",
   "metadata": {},
   "source": [
    "Compare the Triplets"
   ]
  },
  {
   "cell_type": "code",
   "execution_count": null,
   "metadata": {},
   "outputs": [],
   "source": [
    "\n",
    "\n",
    "import math\n",
    "import os\n",
    "import random\n",
    "import re\n",
    "import sys\n",
    "\n",
    "\n",
    "\n",
    "def compareTriplets(a, b):\n",
    "    result=[]\n",
    "    point_a=0\n",
    "    point_b=0\n",
    "    counter=0\n",
    "    for each in a:\n",
    "        if each>b[counter]:\n",
    "            point_a+=1\n",
    "        elif each<b[counter]:\n",
    "            point_b+=1\n",
    "        counter+=1\n",
    "    \n",
    "    result.append(point_a)\n",
    "    result.append(point_b)\n",
    "    \n",
    "    return result\n",
    "\n",
    "if __name__ == '__main__':\n",
    "    fptr = open(os.environ['OUTPUT_PATH'], 'w')\n",
    "\n",
    "    a = list(map(int, input().rstrip().split()))\n",
    "\n",
    "    b = list(map(int, input().rstrip().split()))\n",
    "\n",
    "    result = compareTriplets(a, b)\n",
    "\n",
    "    fptr.write(' '.join(map(str, result)))\n",
    "    fptr.write('\\n')\n",
    "\n",
    "    fptr.close()\n"
   ]
  },
  {
   "cell_type": "markdown",
   "metadata": {},
   "source": [
    "Staircase"
   ]
  },
  {
   "cell_type": "code",
   "execution_count": null,
   "metadata": {},
   "outputs": [],
   "source": [
    "import math\n",
    "import os\n",
    "import random\n",
    "import re\n",
    "import sys\n",
    "\n",
    "\n",
    "\n",
    "def staircase(n):\n",
    "    for each in range(1,n+1):\n",
    "        line='#'*each\n",
    "        print(line.rjust(n))\n",
    "\n",
    "if __name__ == '__main__':\n",
    "    n = int(input().strip())\n",
    "\n",
    "    staircase(n)"
   ]
  },
  {
   "cell_type": "markdown",
   "metadata": {},
   "source": [
    "Diagonal difference"
   ]
  },
  {
   "cell_type": "code",
   "execution_count": null,
   "metadata": {},
   "outputs": [],
   "source": [
    "\n",
    "\n",
    "import math\n",
    "import os\n",
    "import random\n",
    "import re\n",
    "import sys\n",
    "\n",
    "\n",
    "\n",
    "def diagonalDifference(arr):\n",
    "    diagonal1=0\n",
    "    diagonal2=0\n",
    "    for each in range(n):\n",
    "        diagonal1+=arr[each][each]\n",
    "        diagonal2+=arr[each][n-1-each]\n",
    "    return abs(diagonal2-diagonal1)\n",
    "\n",
    "if __name__ == '__main__':\n",
    "    fptr = open(os.environ['OUTPUT_PATH'], 'w')\n",
    "\n",
    "    n = int(input().strip())\n",
    "\n",
    "    arr = []\n",
    "\n",
    "    for _ in range(n):\n",
    "        arr.append(list(map(int, input().rstrip().split())))\n",
    "\n",
    "    result = diagonalDifference(arr)\n",
    "\n",
    "    fptr.write(str(result) + '\\n')\n",
    "\n",
    "    fptr.close()\n"
   ]
  },
  {
   "cell_type": "markdown",
   "metadata": {},
   "source": [
    "Time conversion"
   ]
  },
  {
   "cell_type": "code",
   "execution_count": null,
   "metadata": {},
   "outputs": [],
   "source": [
    "\n",
    "\n",
    "import math\n",
    "import os\n",
    "import random\n",
    "import re\n",
    "import sys\n",
    "\n",
    "\n",
    "\n",
    "def timeConversion(s):\n",
    "    hour,minutes,sec=s.split(':')\n",
    "    sec,am_pm=sec[:2],sec[2:]\n",
    "    if hour=='12'and am_pm=='AM':\n",
    "        hour='00'\n",
    "        result=hour+':'+minutes+':'+sec\n",
    "        return result\n",
    "    elif hour=='12'and am_pm=='PM':\n",
    "        result=hour+':'+minutes+':'+sec\n",
    "        return result\n",
    "    else:\n",
    "        if am_pm=='PM':\n",
    "            hour=str(int(hour)+int(12))\n",
    "            result=hour+':'+minutes+':'+sec\n",
    "            return result\n",
    "        else:\n",
    "            result=hour+':'+minutes+':'+sec\n",
    "            return result\n",
    "\n",
    "if __name__ == '__main__':\n",
    "    fptr = open(os.environ['OUTPUT_PATH'], 'w')\n",
    "\n",
    "    s = input()\n",
    "\n",
    "    result = timeConversion(s)\n",
    "\n",
    "    fptr.write(result + '\\n')\n",
    "\n",
    "    fptr.close()"
   ]
  },
  {
   "cell_type": "markdown",
   "metadata": {},
   "source": [
    "SORTING:"
   ]
  },
  {
   "cell_type": "markdown",
   "metadata": {},
   "source": [
    "Intro to Tutorial Challenges"
   ]
  },
  {
   "cell_type": "code",
   "execution_count": null,
   "metadata": {},
   "outputs": [],
   "source": [
    "\n",
    "\n",
    "import math\n",
    "import os\n",
    "import random\n",
    "import re\n",
    "import sys\n",
    "\n",
    "\n",
    "\n",
    "def introTutorial(V, arr):\n",
    "    for element in range(len(arr)):\n",
    "        if arr[element]==V:\n",
    "         return element\n",
    "\n",
    "if __name__ == '__main__':\n",
    "    fptr = open(os.environ['OUTPUT_PATH'], 'w')\n",
    "\n",
    "    V = int(input().strip())\n",
    "\n",
    "    n = int(input().strip())\n",
    "\n",
    "    arr = list(map(int, input().rstrip().split()))\n",
    "\n",
    "    result = introTutorial(V, arr)\n",
    "\n",
    "    fptr.write(str(result) + '\\n')\n",
    "\n",
    "    fptr.close()"
   ]
  },
  {
   "cell_type": "markdown",
   "metadata": {},
   "source": [
    "Quicksort 1 - Partition"
   ]
  },
  {
   "cell_type": "code",
   "execution_count": null,
   "metadata": {},
   "outputs": [],
   "source": [
    "\n",
    "\n",
    "import math\n",
    "import os\n",
    "import random\n",
    "import re\n",
    "import sys\n",
    "\n",
    "\n",
    "\n",
    "def quickSort(arr):\n",
    "    pivot = arr[0]\n",
    "    equal=[]\n",
    "    left=[]\n",
    "    right=[]\n",
    "    for each in arr:\n",
    "        if each<pivot:\n",
    "            left.append(each)\n",
    "        elif each>pivot:\n",
    "            right.append(each)\n",
    "        elif each==pivot:\n",
    "            equal.append(each)\n",
    "        result=left+equal+right\n",
    "    return result\n",
    "    \n",
    "\n",
    "if __name__ == '__main__':\n",
    "    fptr = open(os.environ['OUTPUT_PATH'], 'w')\n",
    "\n",
    "    n = int(input().strip())\n",
    "\n",
    "    arr = list(map(int, input().rstrip().split()))\n",
    "\n",
    "    result = quickSort(arr)\n",
    "\n",
    "    fptr.write(' '.join(map(str, result)))\n",
    "    fptr.write('\\n')\n",
    "\n",
    "    fptr.close()"
   ]
  },
  {
   "cell_type": "markdown",
   "metadata": {},
   "source": [
    "Find the median"
   ]
  },
  {
   "cell_type": "code",
   "execution_count": null,
   "metadata": {},
   "outputs": [],
   "source": [
    "\n",
    "\n",
    "import math\n",
    "import os\n",
    "import random\n",
    "import re\n",
    "import sys\n",
    "\n",
    "\n",
    "\n",
    "def findMedian(arr):\n",
    "    arr_sorted=sorted(arr)\n",
    "    median_position=int(len(arr)//2)\n",
    "    median_value=arr_sorted[median_position]\n",
    "    return median_value\n",
    "\n",
    "\n",
    "if __name__ == '__main__':\n",
    "    fptr = open(os.environ['OUTPUT_PATH'], 'w')\n",
    "\n",
    "    n = int(input().strip())\n",
    "\n",
    "    arr = list(map(int, input().rstrip().split()))\n",
    "\n",
    "    result = findMedian(arr)\n",
    "\n",
    "    fptr.write(str(result) + '\\n')\n",
    "\n",
    "    fptr.close()"
   ]
  },
  {
   "cell_type": "markdown",
   "metadata": {},
   "source": [
    "Counting Sort 1"
   ]
  },
  {
   "cell_type": "code",
   "execution_count": null,
   "metadata": {},
   "outputs": [],
   "source": [
    "\n",
    "\n",
    "import math\n",
    "import os\n",
    "import random\n",
    "import re\n",
    "import sys\n",
    "\n",
    "\n",
    "\n",
    "def countingSort(arr):\n",
    "    counter=[0]*100\n",
    "    for number in arr:\n",
    "         counter[number]+=1\n",
    "    return counter\n",
    "\n",
    "if __name__ == '__main__':\n",
    "    fptr = open(os.environ['OUTPUT_PATH'], 'w')\n",
    "\n",
    "    n = int(input().strip())\n",
    "\n",
    "    arr = list(map(int, input().rstrip().split()))\n",
    "\n",
    "    result = countingSort(arr)\n",
    "\n",
    "    fptr.write(' '.join(map(str, result)))\n",
    "    fptr.write('\\n')\n",
    "\n",
    "    fptr.close()\n"
   ]
  },
  {
   "cell_type": "markdown",
   "metadata": {},
   "source": [
    "Counting Sort 2"
   ]
  },
  {
   "cell_type": "code",
   "execution_count": null,
   "metadata": {},
   "outputs": [],
   "source": [
    "\n",
    "\n",
    "import math\n",
    "import os\n",
    "import random\n",
    "import re\n",
    "import sys\n",
    "\n",
    "\n",
    "def countingSort(arr):\n",
    "    counter=[0]*100\n",
    "    \n",
    "    for number in arr:\n",
    "         counter[number]+=1\n",
    "    sorted_arr=[]\n",
    "    for each in range(100):\n",
    "        for i in range(counter[each]):\n",
    "            sorted_arr.append(each)\n",
    "    return sorted_arr\n",
    "    \n",
    "\n",
    "if __name__ == '__main__':\n",
    "    fptr = open(os.environ['OUTPUT_PATH'], 'w')\n",
    "\n",
    "    n = int(input().strip())\n",
    "\n",
    "    arr = list(map(int, input().rstrip().split()))\n",
    "\n",
    "    result = countingSort(arr)\n",
    "\n",
    "    fptr.write(' '.join(map(str, result)))\n",
    "    fptr.write('\\n')\n",
    "\n",
    "    fptr.close()\n"
   ]
  },
  {
   "cell_type": "markdown",
   "metadata": {},
   "source": [
    "Insertion Sort - Part 1"
   ]
  },
  {
   "cell_type": "code",
   "execution_count": null,
   "metadata": {},
   "outputs": [],
   "source": [
    "\n",
    "\n",
    "import math\n",
    "import os\n",
    "import random\n",
    "import re\n",
    "import sys\n",
    "\n",
    "\n",
    "\n",
    "def insertionSort1(n, arr):\n",
    "    lastvalue=arr[n-1]\n",
    "    value2= len(arr) - 2\n",
    "\n",
    "    while value2 >= 0:\n",
    "        if arr[value2] > lastvalue:\n",
    "            arr[value2+1] = arr[value2]\n",
    "            print(*arr)\n",
    "            if value2 == 0:\n",
    "                arr[value2] = lastvalue\n",
    "                print(*arr)\n",
    "        elif arr[value2]<lastvalue:\n",
    "            arr[value2+1] = lastvalue\n",
    "            print(*arr)\n",
    "            break\n",
    "            \n",
    "        value2 -= 1\n",
    "        \n",
    "            \n",
    "    \n",
    "if __name__ == '__main__':\n",
    "    n = int(input().strip())\n",
    "\n",
    "    arr = list(map(int, input().rstrip().split()))\n",
    "\n",
    "    insertionSort1(n, arr)\n"
   ]
  },
  {
   "cell_type": "markdown",
   "metadata": {},
   "source": [
    "Insertion Sort - Part 2"
   ]
  },
  {
   "cell_type": "code",
   "execution_count": null,
   "metadata": {},
   "outputs": [],
   "source": [
    "\n",
    "\n",
    "\n",
    "import math\n",
    "import os\n",
    "import random\n",
    "import re\n",
    "import sys\n",
    "\n",
    "\n",
    "\n",
    "def insertionSort2(n, arr):\n",
    "    for each in range(1, len(arr)):\n",
    "        element = arr[each]\n",
    "        i = each - 1\n",
    "        while i >= 0 and element < arr[i]:\n",
    "            arr[i+1] = arr[i]\n",
    "            i-= 1\n",
    "        arr[i+1] = element\n",
    "        print(*arr)\n",
    "if __name__ == '__main__':\n",
    "    n = int(input().strip())\n",
    "\n",
    "    arr = list(map(int, input().rstrip().split()))\n",
    "\n",
    "    insertionSort2(n, arr)\n"
   ]
  },
  {
   "cell_type": "markdown",
   "metadata": {},
   "source": [
    "Correctness and the Loop Invariant"
   ]
  },
  {
   "cell_type": "code",
   "execution_count": null,
   "metadata": {},
   "outputs": [],
   "source": [
    "def insertion_sort(l):\n",
    "    for i in range(1, len(l)):\n",
    "        j = i-1\n",
    "        key = l[i]\n",
    "        while (j >= 0) and (l[j] > key):\n",
    "           l[j+1] = l[j]\n",
    "           j -= 1\n",
    "        l[j+1] = key\n",
    "\n",
    "m = int(input().strip())\n",
    "ar = [int(i) for i in input().strip().split()]\n",
    "insertion_sort(ar)\n",
    "print(\" \".join(map(str,ar)))"
   ]
  },
  {
   "cell_type": "markdown",
   "metadata": {},
   "source": [
    "Running Time of Algorithms"
   ]
  },
  {
   "cell_type": "code",
   "execution_count": null,
   "metadata": {},
   "outputs": [],
   "source": [
    "\n",
    "\n",
    "import math\n",
    "import os\n",
    "import random\n",
    "import re\n",
    "import sys\n",
    "\n",
    "\n",
    "\n",
    "def runningTime(arr):\n",
    "    counter=0\n",
    "    for each in range(1, len(arr)):\n",
    "        element = arr[each]\n",
    "        i = each - 1\n",
    "        while i >= 0 and element < arr[i]:\n",
    "            arr[i+1] = arr[i]\n",
    "            i-= 1\n",
    "            counter+=1\n",
    "        arr[i+1] = element\n",
    "        \n",
    "    return counter\n",
    "\n",
    "if __name__ == '__main__':\n",
    "    fptr = open(os.environ['OUTPUT_PATH'], 'w')\n",
    "\n",
    "    n = int(input().strip())\n",
    "\n",
    "    arr = list(map(int, input().rstrip().split()))\n",
    "\n",
    "    result = runningTime(arr)\n",
    "\n",
    "    fptr.write(str(result) + '\\n')\n",
    "\n",
    "    fptr.close()\n"
   ]
  },
  {
   "cell_type": "markdown",
   "metadata": {},
   "source": [
    "Big Sorting"
   ]
  },
  {
   "cell_type": "code",
   "execution_count": null,
   "metadata": {},
   "outputs": [],
   "source": [
    "\n",
    "\n",
    "import math\n",
    "import os\n",
    "import random\n",
    "import re\n",
    "import sys\n",
    "\n",
    "\n",
    "\n",
    "def bigSorting(unsorted):\n",
    "    # Write your code here\n",
    "    unsorted.sort(key=int)\n",
    "    return unsorted\n",
    "if __name__ == '__main__':\n",
    "    fptr = open(os.environ['OUTPUT_PATH'], 'w')\n",
    "\n",
    "    n = int(input().strip())\n",
    "\n",
    "    unsorted = []\n",
    "\n",
    "    for _ in range(n):\n",
    "        unsorted_item = input()\n",
    "        unsorted.append(unsorted_item)\n",
    "\n",
    "    result = bigSorting(unsorted)\n",
    "\n",
    "    fptr.write('\\n'.join(result))\n",
    "    fptr.write('\\n')\n",
    "\n",
    "    fptr.close()\n"
   ]
  },
  {
   "cell_type": "markdown",
   "metadata": {},
   "source": [
    "STRINGS:"
   ]
  },
  {
   "cell_type": "markdown",
   "metadata": {},
   "source": [
    "CamelCase"
   ]
  },
  {
   "cell_type": "code",
   "execution_count": null,
   "metadata": {},
   "outputs": [],
   "source": [
    "\n",
    "\n",
    "import math\n",
    "import os\n",
    "import random\n",
    "import re\n",
    "import sys\n",
    "\n",
    "\n",
    "\n",
    "def camelcase(s):\n",
    "    words=list()\n",
    "    for letter in s:\n",
    "     if letter==letter.upper():\n",
    "        a=s.split() \n",
    "        words.append(a)\n",
    "     else:\n",
    "        continue\n",
    "    res=(len(words)+1)\n",
    "    return res\n",
    "            \n",
    "\n",
    "if __name__ == '__main__':\n",
    "    fptr = open(os.environ['OUTPUT_PATH'], 'w')\n",
    "\n",
    "    s = input()\n",
    "\n",
    "    result = camelcase(s)\n",
    "\n",
    "    fptr.write(str(result) + '\\n')\n",
    "\n",
    "    fptr.close()"
   ]
  },
  {
   "cell_type": "markdown",
   "metadata": {},
   "source": [
    "Alternating Characters"
   ]
  },
  {
   "cell_type": "code",
   "execution_count": null,
   "metadata": {},
   "outputs": [],
   "source": [
    "\n",
    "\n",
    "import math\n",
    "import os\n",
    "import random\n",
    "import re\n",
    "import sys\n",
    "\n",
    "\n",
    "\n",
    "def alternatingCharacters(s):\n",
    "    removed=list()\n",
    "    for each in range(len(s)-1):\n",
    "        if s[each]==s[each+1]:\n",
    "            removed.append(each)\n",
    "    return len(removed)\n",
    "\n",
    "\n",
    "if __name__ == '__main__':\n",
    "    fptr = open(os.environ['OUTPUT_PATH'], 'w')\n",
    "\n",
    "    q = int(input().strip())\n",
    "\n",
    "    for q_itr in range(q):\n",
    "        s = input()\n",
    "\n",
    "        result = alternatingCharacters(s)\n",
    "\n",
    "        fptr.write(str(result) + '\\n')\n",
    "\n",
    "    fptr.close()"
   ]
  },
  {
   "cell_type": "markdown",
   "metadata": {},
   "source": [
    "Mars Exploration"
   ]
  },
  {
   "cell_type": "code",
   "execution_count": null,
   "metadata": {},
   "outputs": [],
   "source": [
    "\n",
    "\n",
    "\n",
    "\n",
    "import math\n",
    "import os\n",
    "import random\n",
    "import re\n",
    "import sys\n",
    "\n",
    "\n",
    "\n",
    "def marsExploration(s):\n",
    "    sos_string='SOS'\n",
    "    n = len(s)\n",
    "    s1 = sos_string * (n // 3)\n",
    "    changed = []\n",
    "    for i in range(len(s)):\n",
    "        if s[i] != s1[i]:\n",
    "            changed.append(s1[i])\n",
    "    return len(changed)\n",
    "            \n",
    "\n",
    "if __name__ == '__main__':\n",
    "    fptr = open(os.environ['OUTPUT_PATH'], 'w')\n",
    "\n",
    "    s = input()\n",
    "\n",
    "    result = marsExploration(s)\n",
    "\n",
    "    fptr.write(str(result) + '\\n')\n",
    "\n",
    "    fptr.close()\n"
   ]
  },
  {
   "cell_type": "markdown",
   "metadata": {},
   "source": [
    "Beautiful Binary String"
   ]
  },
  {
   "cell_type": "code",
   "execution_count": null,
   "metadata": {},
   "outputs": [],
   "source": [
    "\n",
    "\n",
    "import math\n",
    "import os\n",
    "import random\n",
    "import re\n",
    "import sys\n",
    "\n",
    "\n",
    "\n",
    "def beautifulBinaryString(b):\n",
    "    sub_string='010'\n",
    "    changes=b.count(sub_string)\n",
    "    return changes\n",
    "\n",
    "if __name__ == '__main__':\n",
    "    fptr = open(os.environ['OUTPUT_PATH'], 'w')\n",
    "\n",
    "    n = int(input().strip())\n",
    "\n",
    "    b = input()\n",
    "\n",
    "    result = beautifulBinaryString(b)\n",
    "\n",
    "    fptr.write(str(result) + '\\n')\n",
    "\n",
    "    fptr.close()\n"
   ]
  },
  {
   "cell_type": "markdown",
   "metadata": {},
   "source": [
    "String Construction"
   ]
  },
  {
   "cell_type": "code",
   "execution_count": null,
   "metadata": {},
   "outputs": [],
   "source": [
    "\n",
    "\n",
    "import math\n",
    "import os\n",
    "import random\n",
    "import re\n",
    "import sys\n",
    "\n",
    "\n",
    "\n",
    "def stringConstruction(s):\n",
    "    s1=list()\n",
    "    cost=0\n",
    "\n",
    "    for i in s:\n",
    "     if s1!=s:\n",
    "       if i not in s1:\n",
    "        s1.append(i)\n",
    "        cost+=1\n",
    "    else:\n",
    "      cost+=0\n",
    "    return cost\n",
    "\n",
    "if __name__ == '__main__':\n",
    "    fptr = open(os.environ['OUTPUT_PATH'], 'w')\n",
    "\n",
    "    q = int(input().strip())\n",
    "\n",
    "    for q_itr in range(q):\n",
    "        s = input()\n",
    "\n",
    "        result = stringConstruction(s)\n",
    "\n",
    "        fptr.write(str(result) + '\\n')\n",
    "\n",
    "    fptr.close()"
   ]
  }
 ],
 "metadata": {
  "kernelspec": {
   "display_name": "Python 3.8.8 ('base')",
   "language": "python",
   "name": "python3"
  },
  "language_info": {
   "name": "python",
   "version": "3.8.8"
  },
  "orig_nbformat": 4,
  "vscode": {
   "interpreter": {
    "hash": "957668f77d739aed3606dc0cb3e6b9836150d21e7c3a979985571ea2faa3bd84"
   }
  }
 },
 "nbformat": 4,
 "nbformat_minor": 2
}
