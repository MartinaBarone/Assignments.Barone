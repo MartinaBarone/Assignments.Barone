{
 "cells": [
  {
   "cell_type": "markdown",
   "metadata": {},
   "source": [
    "Martina Barone"
   ]
  },
  {
   "cell_type": "markdown",
   "metadata": {},
   "source": [
    "-FIB"
   ]
  },
  {
   "cell_type": "code",
   "execution_count": null,
   "metadata": {},
   "outputs": [],
   "source": [
    "def fib(n,k):\n",
    "    if n == 0:\n",
    "        return 0\n",
    "    elif n == 1:\n",
    "        return 1\n",
    "    else: \n",
    "        result=fib(n-1,k) + k*fib(n-2,k)\n",
    "        return result\n",
    "fib(29,2)"
   ]
  },
  {
   "cell_type": "markdown",
   "metadata": {},
   "source": [
    "-HAMM"
   ]
  },
  {
   "cell_type": "code",
   "execution_count": null,
   "metadata": {},
   "outputs": [],
   "source": [
    "s='CGTCAGGTGGCGTAGAAGCGAAGTAATGCGCTTGAAGGAGTTCAGTATCTAATCTACGCCACAATAAAAGGGTACATTACAACCTAAGTGATCGTAGTGACGATCGGAGTGGGCACAGGCTCTATAGAGTACCGTGCTCTCTACCCAAAGTTCATCTACGGCACCCAGTCTATGTTAACACCTGGCACCGTGGCTATTGCAGCGAGCCTCAATATGGTTCCCTGAAGCTTGTCGAGACGCTGCTCGTAGGGACTCCGTCGGCCGGCGGTTCAGTTTAATTGCGCTACAGGACATCGTGAGGATTGAATTAGGACGGGCCAGCGCGCGTCCATCCTTTCACACCATTCTAAGGAGTTAAGGCGTCGACCTGATAGACAGTTATTCGGTTCCAAGAAGACAAGCCCGTAACATCAGTTTGTTACGTATAAGCCATACATCATTGCGAAGACTGCCGACTATCTTGTGGGATCGACACTTTACTATCTGGAACGAGGACCGGACTAGAGTCAAGGAACGAAACGAAGTACCAATCGGTTTAAAAGTTCACGATGCCTGAGTCTAGCACCGATTCATCGGGACATCAACACTTGGCGCCCATACATTCTGGTCTACCTAACAAACTTGGAAAGGTCACACTACGGGTGAGATAGCTCCCCGCATCGCTCAGTTAGTTTTGTTGACCTGACGTGCCCCAACGGGGCGGAATACTAGAACGGTGCCCTCTTAGGAATAGGAAGACGGTTTTCGGAGAGCCCATCAGGTCCCGCCTTTGAGCAGGGGCCGCAGATTAATCTAACAGCGGGGCAGCCGATGCAAGTCGTAAGGGGAGAGCCTTCTCCCATACTCAATACGTGACGGTGGTATCATTGTGTTTCGGTAATCCCGTTAGCGTTTGTGGTTTGGACGGGCCATGATCTGCTTCGCATCGGCCAAGACCAT'\n",
    "t='GGTTGTATAGCATAGCAGGGTATGCTTCTCTATGACCCCGACATGGTAATTATCTATAGTTCCATTTAAGTCTTAGTTATGCTCTTATTGGGGGTATGTGCTTTCGTATTTGTCCCTAGAGCCATGAACTTCACTCCTTTAGACCCAAAAGTCAACGAAGATACACACTCAACGATCTCGTGGGGCACCATGGGTGTTTTATCTGGGGTGCTAGTTATACAGGGGCTCAAGTAGCGCGCATGCTTTTGGCGACCAGGTCAGCTGGCGGTCTAATTTTATTGTGTTACAGGACAGCCCGCAGTTCGAGCCCTAACCGATTAGCCCTTGGCCGTCCTTACGTGCTCGTCAATTGAACTAAGCCGATCAGAGGTTCGAGGGCTATTCGCTTATGATAAGACAAGTCTTAGGCAAAAATTTTATAATTATATAGGTCGAACGCAAGGTAAGGAGACCGGTCCAGTAAAGGGATCAGAAGTTTGCTCTCTGGGATGCCAACCCGAAGTAACTTTGCCACCGGAACGATGGACGACTCTTTGTAATTTTTCATGGAGCTCACGACAATAAGCGAGTCCTAAGAGACTATACACGTCGGACGGACATTTCTTCGTCTTGCTCCCAACGCGCTGAAGCAGGCACTACGGGAAATGATGCTTAGCGCGTAGCTCCGTTAGGAGTTTCCGCTATACATTCCTCACCTGCCGCCTTAAAGGCACCGTTGAATTATACGGATATCTTTGACGGACTTGTGTAAGGCCGTAGTACCAGGTATTTGGCCAGTGCCCGCAGGTGGACCTTATACCACCGCTGGCCATGCAAGACCCAAATATCGAGACATGTCCCAGGCTGAGGACGTATATGTAGGATCAATATGTAGTTGGAATTTCGACTAGGGTCCTGCTCAGGCCCGCTGAATATTTTCGCAGGAGCTACGAAGACCAT'\n",
    "count=0\n",
    "for i in range(len(s)):\n",
    "    if s[i]!=t[i]:\n",
    "        count+=1\n",
    "print(count)"
   ]
  },
  {
   "cell_type": "markdown",
   "metadata": {},
   "source": [
    "-PERM"
   ]
  },
  {
   "cell_type": "code",
   "execution_count": null,
   "metadata": {},
   "outputs": [],
   "source": [
    "n=5\n",
    "\n",
    "from itertools import permutations\n",
    "perm=list(permutations(list(range(1,n+1)),n))\n",
    "print(len(perm))\n",
    "for i in perm:\n",
    "    res = ''\n",
    "    for each in i:\n",
    "        res += str(each) + ' '\n",
    "    print(res)"
   ]
  },
  {
   "cell_type": "markdown",
   "metadata": {},
   "source": [
    "-PRTM"
   ]
  },
  {
   "cell_type": "code",
   "execution_count": null,
   "metadata": {},
   "outputs": [],
   "source": [
    "def prot_mass(p):\n",
    "    weight={'A': 71.03711,'C': 103.00919,'D': 115.02694,'E':   129.04259,'F':   147.06841,'G' :  57.02146,'H':   137.05891,'I' :  113.08406,'K'  : 128.09496,'L'  : 113.08406,'M' :  131.04049,\n",
    "             'N':   114.04293,'P':   97.05276,'Q':   128.05858,'R'  : 156.10111,'S' :  87.03203,'T':   101.04768,'V':   99.06841,'W':   186.07931,'Y':   163.06333 }\n",
    "    tot_weights=[]\n",
    "    for i in p:\n",
    "        w=weight.get(i)\n",
    "        tot_weights.append(w)\n",
    "        result=sum(tot_weights)\n",
    "    print(result)\n",
    "        \n",
    "\n",
    "prot_mass('LSSLCRDRNCRTSAHLSAFYWEMLGYWYRQHWKCHQPPMHDCTLKGHAQNTVMRQMNHRPQEFAGCGAWPCDDWFYDAWWMKSCQHSGLMGPWFWKGQFLGTQYSMHKQESAGTLYVWEEYAMPRQWSYMDAWPQGMMAATTDMMEMMQVMCHSTIKKLHWDYEAPHPRCIKCRHSEAGPRCVCHIWVEWEGSGHDPFVRDCINYLMANTIVIPNKVMPESKDPTGVKYFLVDYAISHICRFQTHEIAKMYQQGCFHAQLQRFVFMEQMDYIFIDQYIYNIHCVRIWSACIGYDKYCHAMAAEWEYRRFTIPMKMWCNVDGVQKSSTAVNQWNRFHICIHNFYLLKQYSSAWEAPTFSTWVNQSPFCREDRLVLEELRKPIRSPVTYPSDNTNKLDEQDKMFTMCKIERGIEDNWICQTLESELWAFNHIVMHLKCACWEIVCRADPNHIMMFGYVCQGRSYEFCVRWDSQPSFFYQNTMCWVVEMEVFGILTQYGQHVCTATEMYHQNPHKLTVIVCECMYCFQSWTEAVCSAQYYLMLFVIATIGQFIMMTQSMHEKWGVWVASYSQNFRSWDLHKPSHSQMKNNHTKSKGANIWCTQVQQIQTTSDTKRPNHKDNKENWRIFKKQNMNHNKFVIGLRDECVRGKRCHHCCTKINMTHPEAQARMYRQTLHLMWPQEVNECTKEILGKSDIAHEWRVDWWPPAITWCEQRHYCAELWNDNPTNECDYMALFNVAGEQCYHWFNGNFYGGRVVKNMMHEYEVHQCIATHCMWPKDWQVYLIIITKHCVLHENFLAKTGSSWMAKERPMSIQLIQVWLYSYGFLFMGEGFARRIQKCERTMEPHGFHREWMQMSPVYCIIVTRRNNVNNFQEVVREYTMWQESVMQRCTMKKMVTMLSDFRPSEIGREPCFNFRQTWCVSWGMANFEDHEWSKLVFLWQMVLYGSFQTGGIVDSRISRRGGWIVYACTPKIIKSGRFHLYAGTINWYMANWPKDSW')\n"
   ]
  },
  {
   "cell_type": "markdown",
   "metadata": {},
   "source": [
    "-MRNA"
   ]
  },
  {
   "cell_type": "code",
   "execution_count": null,
   "metadata": {},
   "outputs": [],
   "source": [
    "prot='MLMFYSLFYNKLQDDNIHHTNCSVVWCFMVWQHWQGSGEGDIDKYIIDTGTWYCVCAMDWMTHNQQVNMLGDSTHAWPRCESPLWEDMVELCLGTRFCVNLQDVTNFYRPLCFDHSCKHTHETRKHQTKPHMVPLMQNLFSCYHACTAIKDDQILSWCSWMVMIWIYRVKKESEIYWRWCVCCKNISLDGDIFPAKHKVDGYCEPSMTIRDKMARYRIWRIENMMPCTVRHVTYIEDYMAEPWQELRTGPTCDDLSERESQHPFCNRVVTFNKPQYQDSEFARGVLWVWKSFPMASECAMWGFMVGLPTLTNRYAIYHLHSWKDQYWWFGQWIEHESDMINDLHKRSKFDAWTLIIYSVMIELPWAWRMDEFYQGLFLFDSACRGCLNSFKCICWHSWNSAMPFNDGGKVWCQKRSVPEDCQNLWQTGTLKIHYPMSLYDIIYHQCIMVLAEKPMAGKDFDPNTTVLHTIMIFANVFEMFSNLGSTARGWNFGHECDYDCQYHWYDMWIGSTHSHFSEMINWPCFLFCIGAPVFMWVFNAVIGKFEKREAPEEVFDIIDESPDTALRVLSLACINGTRETCCWAPPACNNRSYEKVIIHGDEMAKNQMKAQELSELHDEDSMPCCDIRREQSTDWDFVLCKMAHVMECLMESRSPKPPASTGTEDSCFNDRKYLTAPSQYFYSFFFTLTYWLREGFNRVLIQRGQFVFWVTKDQINEEPHSAKFGWMPDYLAFDIKGIGPRLGNPKIYRYDIMFNYEFEMVDILRALETIICRNFPPGSMFNVHNYTTCFYEYERVKCGKITKFESNLELAPKGNWSYLTEHCVWAAALEWRNPWFYMHRELAVSILQPISHIAKHCAFYEWEAFGSGWGKYMTTVQSRHMCRDTYSAIKHMGLPNKYANIDYYVVMTMNFGIIFYPRLSLPHCDYTCYCYNTTAQQELGEKLGRMNGGYKYAFIRMFWILPVNLTARKTWMLTMLGKMQNLEHRFQEIHVEILCKPL'\n",
    "codons={'L': ['UUA', 'UUG', 'CUU', 'CUC', 'CUA', 'CUG'],'F': ['UUU', 'UUC'],'C': ['UGU', 'UGC'],'N': ['AAU', 'AAC'],\n",
    "              'P': ['CCU', 'CCC', 'CCA', 'CCG'],'H': ['CAU', 'CAC'],'Q': ['CAA', 'CAG'],'I': ['AUU', 'AUC', 'AUA'],\n",
    "              'S': ['UCU', 'UCC', 'UCA', 'UCG', 'AGU', 'AGC'],'R': ['CGU', 'CGC', 'CGA', 'CGG', 'AGA', 'AGG'], 'W': ['UGG'],\n",
    "              'V': ['GUU', 'GUC', 'GUA', 'GUG'],'Y': ['UAU', 'UAC'],'A': ['GCU', 'GCC', 'GCA', 'GCG'],'D': ['GAU', 'GAC'],'E': ['GAA', 'GAG'],'G': ['GGU', 'GGC', 'GGA', 'GGG'],\n",
    "              'M': ['AUG'],'T': ['ACU', 'ACC', 'ACA', 'ACG'],'K': ['AAA', 'AAG'],'stop':['UAA','UAG','UGA']}\n",
    "prob=1\n",
    "mod=1000000\n",
    "\n",
    "for amminoac in prot:\n",
    "    for codon in codons:\n",
    "        if amminoac==codon:\n",
    "            prob=prob*len(codons[codon])\n",
    "print(len(codons['stop'])*(prob%mod))\n"
   ]
  },
  {
   "cell_type": "markdown",
   "metadata": {},
   "source": [
    "-FIBD"
   ]
  },
  {
   "cell_type": "code",
   "execution_count": null,
   "metadata": {},
   "outputs": [],
   "source": [
    "m=18\n",
    "n=97\n",
    "living = [1, 1]                                                               \n",
    "current_month = 2\n",
    "while current_month < n:\n",
    "    if (current_month < m):\n",
    "        living.append(living[-2] + living[-1])                              \n",
    "    elif (current_month == m) :                                        \n",
    "            living.append(living[-2] + living[-1] - 1)                          \n",
    "    else:                                                                      \n",
    "        living.append(living[-2] + living[-1] - living[-(m + 1)])                                                           \n",
    "    current_month += 1                                                               \n",
    "    result=living[-1]\n",
    "print(result)\n"
   ]
  },
  {
   "cell_type": "markdown",
   "metadata": {},
   "source": [
    "-REVP"
   ]
  },
  {
   "cell_type": "code",
   "execution_count": null,
   "metadata": {},
   "outputs": [],
   "source": [
    "from Bio import SeqIO\n",
    "with open('rosalind_revp (1).txt', \"r\") as file:\n",
    "    for seq in SeqIO.parse('rosalind_revp (1).txt', \"fasta\"):\n",
    "        s=str(seq.seq)\n",
    "        compl=s.replace(\"T\",\"a\").replace(\"G\",\"c\").replace(\"C\",\"g\").replace(\"A\",\"t\")\n",
    "        complement=compl.upper()\n",
    "        for i in range(len(s)):\n",
    "            for j in range(i,len(s)):\n",
    "                seq = s[i:j + 1]                    \n",
    "                reverse_seq = complement[i:j + 1]  \n",
    "                if len(seq)>3 and len(seq)<13:\n",
    "                    if seq==reverse_seq[::-1]:                \n",
    "                        print(i + 1,len(seq))"
   ]
  },
  {
   "cell_type": "markdown",
   "metadata": {},
   "source": [
    "-LCSM"
   ]
  },
  {
   "cell_type": "code",
   "execution_count": null,
   "metadata": {},
   "outputs": [],
   "source": [
    "from Bio import SeqIO\n",
    "s=list()\n",
    "for seq in SeqIO.parse('rosalind_lcsm (1).txt', \"fasta\"):\n",
    "        s.append(str(seq.seq))\n",
    "        sort_seq = sorted(s, key=len)\n",
    "        short = sort_seq[0]\n",
    "        others = sort_seq[1:]\n",
    "        \n",
    "\n",
    "shared_mot = ''\n",
    "for x in range(len(short)):\n",
    "    for y in range(x, len(short)):\n",
    "        sub = short[x:y + 1]\n",
    "        test = False\n",
    "        for each in others:\n",
    "            if sub in each:\n",
    "                test = True\n",
    "            else:\n",
    "                break\n",
    "            if test==True and len(shared_mot)<len(sub):\n",
    "                shared_mot = sub\n",
    "print(shared_mot)"
   ]
  },
  {
   "cell_type": "markdown",
   "metadata": {},
   "source": [
    "-LEXF"
   ]
  },
  {
   "cell_type": "code",
   "execution_count": null,
   "metadata": {},
   "outputs": [],
   "source": [
    "from itertools import product\n",
    "s='A', 'B','C','D'\n",
    "t=4\n",
    "strings=product(s,repeat=t)\n",
    "for each in strings:\n",
    "    print(''.join(each))"
   ]
  },
  {
   "attachments": {},
   "cell_type": "markdown",
   "metadata": {},
   "source": [
    "-LGIS"
   ]
  },
  {
   "cell_type": "code",
   "execution_count": null,
   "metadata": {},
   "outputs": [],
   "source": [
    "with open('rosalind_lgis.txt', \"r\") as file:\n",
    "    lines=file.readlines()\n",
    "    permutations=list(map(int, lines[1].split()))\n",
    "    long_incrsub = list()\n",
    "    long_decrsub = list()\n",
    "    for (x,y) in enumerate(permutations):\n",
    "        long_incrsub.append(max([long_incrsub[a] for (a, b) in enumerate(permutations[:x]) if b < y] or [[]], key=len) + [y])\n",
    "    for (x,y) in enumerate(permutations):\n",
    "        long_decrsub.append(max([long_decrsub[a] for (a, b) in enumerate(permutations[:x]) if b > y] or [[]], key=len) + [y])\n",
    "    print(*max(long_incrsub, key=len))\n",
    "    print(*max(long_decrsub, key=len))\n",
    "    "
   ]
  }
 ],
 "metadata": {
  "kernelspec": {
   "display_name": "Python 3.10.8 64-bit",
   "language": "python",
   "name": "python3"
  },
  "language_info": {
   "name": "python",
   "version": "3.10.8 (tags/v3.10.8:aaaf517, Oct 11 2022, 16:50:30) [MSC v.1933 64 bit (AMD64)]"
  },
  "orig_nbformat": 4,
  "vscode": {
   "interpreter": {
    "hash": "e7ccb2a435b656723dafd2fb88eb02b6891256ab8b77d2cf3044cea9811453d0"
   }
  }
 },
 "nbformat": 4,
 "nbformat_minor": 2
}
